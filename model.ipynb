{
 "cells": [
  {
   "cell_type": "code",
   "execution_count": 1,
   "id": "95302bc6",
   "metadata": {},
   "outputs": [
    {
     "name": "stdout",
     "output_type": "stream",
     "text": [
      "R2 Score: 0.9401211962232473\n",
      "RMSE: 11981.834393075002\n"
     ]
    }
   ],
   "source": [
    "# income_predictor.ipynb\n",
    "import os\n",
    "\n",
    "os.makedirs('models', exist_ok=True)\n",
    "\n",
    "import pandas as pd\n",
    "import numpy as np\n",
    "import joblib\n",
    "from sklearn.model_selection import train_test_split\n",
    "from sklearn.ensemble import RandomForestRegressor\n",
    "from sklearn.preprocessing import LabelEncoder\n",
    "from sklearn.metrics import mean_squared_error, r2_score\n",
    "\n",
    "# Load your dataset\n",
    "df = pd.read_csv(r\"C:\\Users\\Riya\\Desktop\\Employee_Salary_prediction\\dataset.csv\")  # adjust path as needed\n",
    "\n",
    "# Check for nulls and handle them\n",
    "df.dropna(inplace=True)\n",
    "\n",
    "# Encode categorical columns\n",
    "gender_encoder = LabelEncoder()\n",
    "education_encoder = LabelEncoder()\n",
    "job_encoder = LabelEncoder()\n",
    "\n",
    "df['Gender'] = gender_encoder.fit_transform(df['Gender'])\n",
    "df['Education Level'] = education_encoder.fit_transform(df['Education Level'])\n",
    "df['Job Title'] = job_encoder.fit_transform(df['Job Title'])\n",
    "\n",
    "# Save encoders\n",
    "joblib.dump(gender_encoder, 'models/gender_encoder.pkl')\n",
    "joblib.dump(education_encoder, 'models/education_encoder.pkl')\n",
    "joblib.dump(job_encoder, 'models/job_encoder.pkl')\n",
    "\n",
    "# Feature columns and target\n",
    "X = df[['Age', 'Gender', 'Education Level', 'Job Title', 'Years of Experience']]\n",
    "y = df['Salary']\n",
    "\n",
    "# Train-test split\n",
    "X_train, X_test, y_train, y_test = train_test_split(X, y, test_size=0.2, random_state=42)\n",
    "\n",
    "# Train model (Random Forest Regressor - good performance)\n",
    "model = RandomForestRegressor(n_estimators=100, random_state=42)\n",
    "model.fit(X_train, y_train)\n",
    "\n",
    "# Save model\n",
    "joblib.dump(model, 'dataset.pkl')\n",
    "\n",
    "# Evaluate\n",
    "y_pred = model.predict(X_test)\n",
    "print(\"R2 Score:\", r2_score(y_test, y_pred))\n",
    "print(\"RMSE:\", np.sqrt(mean_squared_error(y_test, y_pred)))\n"
   ]
  }
 ],
 "metadata": {
  "kernelspec": {
   "display_name": "Python 3",
   "language": "python",
   "name": "python3"
  },
  "language_info": {
   "codemirror_mode": {
    "name": "ipython",
    "version": 3
   },
   "file_extension": ".py",
   "mimetype": "text/x-python",
   "name": "python",
   "nbconvert_exporter": "python",
   "pygments_lexer": "ipython3",
   "version": "3.11.0"
  }
 },
 "nbformat": 4,
 "nbformat_minor": 5
}
